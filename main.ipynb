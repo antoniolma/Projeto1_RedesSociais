{
 "cells": [
  {
   "cell_type": "markdown",
   "metadata": {},
   "source": [
    "## Projeto 1 - "
   ]
  },
  {
   "cell_type": "code",
   "execution_count": 1,
   "metadata": {
    "execution": {
     "iopub.execute_input": "2025-03-25T23:33:26.710399Z",
     "iopub.status.busy": "2025-03-25T23:33:26.710304Z",
     "iopub.status.idle": "2025-03-25T23:33:27.452846Z",
     "shell.execute_reply": "2025-03-25T23:33:27.452186Z",
     "shell.execute_reply.started": "2025-03-25T23:33:26.710390Z"
    }
   },
   "outputs": [
    {
     "name": "stdout",
     "output_type": "stream",
     "text": [
      "Requirement already satisfied: pip in /opt/miniconda/envs/jupyterlab/lib/python3.13/site-packages (25.0.1)\n",
      "\u001b[33mWARNING: Running pip as the 'root' user can result in broken permissions and conflicting behaviour with the system package manager, possibly rendering your system unusable. It is recommended to use a virtual environment instead: https://pip.pypa.io/warnings/venv. Use the --root-user-action option if you know what you are doing and want to suppress this warning.\u001b[0m\u001b[33m\n",
      "\u001b[0m"
     ]
    }
   ],
   "source": [
    "!pip install --upgrade pip"
   ]
  },
  {
   "cell_type": "code",
   "execution_count": 2,
   "metadata": {
    "execution": {
     "iopub.execute_input": "2025-03-25T23:33:27.454051Z",
     "iopub.status.busy": "2025-03-25T23:33:27.453820Z",
     "iopub.status.idle": "2025-03-25T23:33:27.457463Z",
     "shell.execute_reply": "2025-03-25T23:33:27.456961Z",
     "shell.execute_reply.started": "2025-03-25T23:33:27.454029Z"
    }
   },
   "outputs": [],
   "source": [
    "# !pip install pandas\n",
    "# # !pip install csv\n",
    "# !pip install git+https://github.com/hashiprobr/netpixi.git\n",
    "# !pip install graph-tool-extras"
   ]
  },
  {
   "cell_type": "code",
   "execution_count": 3,
   "metadata": {
    "execution": {
     "iopub.execute_input": "2025-03-25T23:33:27.458298Z",
     "iopub.status.busy": "2025-03-25T23:33:27.458048Z",
     "iopub.status.idle": "2025-03-25T23:33:28.845305Z",
     "shell.execute_reply": "2025-03-25T23:33:28.844966Z",
     "shell.execute_reply.started": "2025-03-25T23:33:27.458280Z"
    }
   },
   "outputs": [
    {
     "data": {
      "text/html": [
       "\n",
       "    <script src=\"/static/.hidden/netpixi.min.js\"></script>\n"
      ],
      "text/plain": [
       "<IPython.core.display.HTML object>"
      ]
     },
     "metadata": {},
     "output_type": "display_data"
    }
   ],
   "source": [
    "# import graph_tool_extras as gte\n",
    "import pandas as pd\n",
    "import csv\n",
    "import netpixi\n",
    "import numpy as np\n",
    "\n",
    "import graph_tool_extras as gte\n",
    "from graph_tool import draw"
   ]
  },
  {
   "cell_type": "code",
   "execution_count": 4,
   "metadata": {
    "execution": {
     "iopub.execute_input": "2025-03-25T23:33:28.845897Z",
     "iopub.status.busy": "2025-03-25T23:33:28.845655Z",
     "iopub.status.idle": "2025-03-25T23:33:28.971416Z",
     "shell.execute_reply": "2025-03-25T23:33:28.971104Z",
     "shell.execute_reply.started": "2025-03-25T23:33:28.845882Z"
    }
   },
   "outputs": [
    {
     "data": {
      "text/html": [
       "<div>\n",
       "<style scoped>\n",
       "    .dataframe tbody tr th:only-of-type {\n",
       "        vertical-align: middle;\n",
       "    }\n",
       "\n",
       "    .dataframe tbody tr th {\n",
       "        vertical-align: top;\n",
       "    }\n",
       "\n",
       "    .dataframe thead th {\n",
       "        text-align: right;\n",
       "    }\n",
       "</style>\n",
       "<table border=\"1\" class=\"dataframe\">\n",
       "  <thead>\n",
       "    <tr style=\"text-align: right;\">\n",
       "      <th></th>\n",
       "      <th>names</th>\n",
       "      <th>date_x</th>\n",
       "      <th>score</th>\n",
       "      <th>genre</th>\n",
       "      <th>overview</th>\n",
       "      <th>crew</th>\n",
       "      <th>orig_title</th>\n",
       "      <th>status</th>\n",
       "      <th>orig_lang</th>\n",
       "      <th>budget_x</th>\n",
       "      <th>revenue</th>\n",
       "      <th>country</th>\n",
       "    </tr>\n",
       "  </thead>\n",
       "  <tbody>\n",
       "    <tr>\n",
       "      <th>0</th>\n",
       "      <td>Creed III</td>\n",
       "      <td>03/02/2023</td>\n",
       "      <td>73.0</td>\n",
       "      <td>Drama, Action</td>\n",
       "      <td>After dominating the boxing world, Adonis Cree...</td>\n",
       "      <td>Michael B. Jordan, Adonis Creed, Tessa Thompso...</td>\n",
       "      <td>Creed III</td>\n",
       "      <td>Released</td>\n",
       "      <td>English</td>\n",
       "      <td>75000000.0</td>\n",
       "      <td>2.716167e+08</td>\n",
       "      <td>AU</td>\n",
       "    </tr>\n",
       "    <tr>\n",
       "      <th>1</th>\n",
       "      <td>Avatar: The Way of Water</td>\n",
       "      <td>12/15/2022</td>\n",
       "      <td>78.0</td>\n",
       "      <td>Science Fiction, Adventure, Action</td>\n",
       "      <td>Set more than a decade after the events of the...</td>\n",
       "      <td>Sam Worthington, Jake Sully, Zoe Saldaña, Neyt...</td>\n",
       "      <td>Avatar: The Way of Water</td>\n",
       "      <td>Released</td>\n",
       "      <td>English</td>\n",
       "      <td>460000000.0</td>\n",
       "      <td>2.316795e+09</td>\n",
       "      <td>AU</td>\n",
       "    </tr>\n",
       "    <tr>\n",
       "      <th>2</th>\n",
       "      <td>The Super Mario Bros. Movie</td>\n",
       "      <td>04/05/2023</td>\n",
       "      <td>76.0</td>\n",
       "      <td>Animation, Adventure, Family, Fantasy, Comedy</td>\n",
       "      <td>While working underground to fix a water main,...</td>\n",
       "      <td>Chris Pratt, Mario (voice), Anya Taylor-Joy, P...</td>\n",
       "      <td>The Super Mario Bros. Movie</td>\n",
       "      <td>Released</td>\n",
       "      <td>English</td>\n",
       "      <td>100000000.0</td>\n",
       "      <td>7.244590e+08</td>\n",
       "      <td>AU</td>\n",
       "    </tr>\n",
       "    <tr>\n",
       "      <th>3</th>\n",
       "      <td>Mummies</td>\n",
       "      <td>01/05/2023</td>\n",
       "      <td>70.0</td>\n",
       "      <td>Animation, Comedy, Family, Adventure, Fantasy</td>\n",
       "      <td>Through a series of unfortunate events, three ...</td>\n",
       "      <td>Óscar Barberán, Thut (voice), Ana Esther Albor...</td>\n",
       "      <td>Momias</td>\n",
       "      <td>Released</td>\n",
       "      <td>Spanish, Castilian</td>\n",
       "      <td>12300000.0</td>\n",
       "      <td>3.420000e+07</td>\n",
       "      <td>AU</td>\n",
       "    </tr>\n",
       "    <tr>\n",
       "      <th>4</th>\n",
       "      <td>Supercell</td>\n",
       "      <td>03/17/2023</td>\n",
       "      <td>61.0</td>\n",
       "      <td>Action</td>\n",
       "      <td>Good-hearted teenager William always lived in ...</td>\n",
       "      <td>Skeet Ulrich, Roy Cameron, Anne Heche, Dr Quin...</td>\n",
       "      <td>Supercell</td>\n",
       "      <td>Released</td>\n",
       "      <td>English</td>\n",
       "      <td>77000000.0</td>\n",
       "      <td>3.409420e+08</td>\n",
       "      <td>US</td>\n",
       "    </tr>\n",
       "  </tbody>\n",
       "</table>\n",
       "</div>"
      ],
      "text/plain": [
       "                         names       date_x  score  \\\n",
       "0                    Creed III  03/02/2023    73.0   \n",
       "1     Avatar: The Way of Water  12/15/2022    78.0   \n",
       "2  The Super Mario Bros. Movie  04/05/2023    76.0   \n",
       "3                      Mummies  01/05/2023    70.0   \n",
       "4                    Supercell  03/17/2023    61.0   \n",
       "\n",
       "                                           genre  \\\n",
       "0                                  Drama, Action   \n",
       "1             Science Fiction, Adventure, Action   \n",
       "2  Animation, Adventure, Family, Fantasy, Comedy   \n",
       "3  Animation, Comedy, Family, Adventure, Fantasy   \n",
       "4                                         Action   \n",
       "\n",
       "                                            overview  \\\n",
       "0  After dominating the boxing world, Adonis Cree...   \n",
       "1  Set more than a decade after the events of the...   \n",
       "2  While working underground to fix a water main,...   \n",
       "3  Through a series of unfortunate events, three ...   \n",
       "4  Good-hearted teenager William always lived in ...   \n",
       "\n",
       "                                                crew  \\\n",
       "0  Michael B. Jordan, Adonis Creed, Tessa Thompso...   \n",
       "1  Sam Worthington, Jake Sully, Zoe Saldaña, Neyt...   \n",
       "2  Chris Pratt, Mario (voice), Anya Taylor-Joy, P...   \n",
       "3  Óscar Barberán, Thut (voice), Ana Esther Albor...   \n",
       "4  Skeet Ulrich, Roy Cameron, Anne Heche, Dr Quin...   \n",
       "\n",
       "                    orig_title     status            orig_lang     budget_x  \\\n",
       "0                    Creed III   Released              English   75000000.0   \n",
       "1     Avatar: The Way of Water   Released              English  460000000.0   \n",
       "2  The Super Mario Bros. Movie   Released              English  100000000.0   \n",
       "3                       Momias   Released   Spanish, Castilian   12300000.0   \n",
       "4                    Supercell   Released              English   77000000.0   \n",
       "\n",
       "        revenue country  \n",
       "0  2.716167e+08      AU  \n",
       "1  2.316795e+09      AU  \n",
       "2  7.244590e+08      AU  \n",
       "3  3.420000e+07      AU  \n",
       "4  3.409420e+08      US  "
      ]
     },
     "execution_count": 4,
     "metadata": {},
     "output_type": "execute_result"
    }
   ],
   "source": [
    "df = pd.read_csv('imdb_movies.csv')\n",
    "df.head()"
   ]
  },
  {
   "cell_type": "code",
   "execution_count": 5,
   "metadata": {
    "execution": {
     "iopub.execute_input": "2025-03-25T23:33:28.971866Z",
     "iopub.status.busy": "2025-03-25T23:33:28.971762Z",
     "iopub.status.idle": "2025-03-25T23:33:28.988339Z",
     "shell.execute_reply": "2025-03-25T23:33:28.987998Z",
     "shell.execute_reply.started": "2025-03-25T23:33:28.971857Z"
    }
   },
   "outputs": [],
   "source": [
    "df['date_x'] = df['date_x'].str.strip().replace('', pd.NA)\n",
    "df = df.dropna(subset=['date_x'])\n",
    "df['date_x'] = pd.to_datetime(df['date_x'], format='%m/%d/%Y', errors='coerce')"
   ]
  },
  {
   "cell_type": "code",
   "execution_count": 6,
   "metadata": {
    "execution": {
     "iopub.execute_input": "2025-03-25T23:33:28.989276Z",
     "iopub.status.busy": "2025-03-25T23:33:28.989181Z",
     "iopub.status.idle": "2025-03-25T23:33:28.993524Z",
     "shell.execute_reply": "2025-03-25T23:33:28.993073Z",
     "shell.execute_reply.started": "2025-03-25T23:33:28.989268Z"
    }
   },
   "outputs": [
    {
     "data": {
      "text/plain": [
       "names                 object\n",
       "date_x        datetime64[ns]\n",
       "score                float64\n",
       "genre                 object\n",
       "overview              object\n",
       "crew                  object\n",
       "orig_title            object\n",
       "status                object\n",
       "orig_lang             object\n",
       "budget_x             float64\n",
       "revenue              float64\n",
       "country               object\n",
       "dtype: object"
      ]
     },
     "execution_count": 6,
     "metadata": {},
     "output_type": "execute_result"
    }
   ],
   "source": [
    "df.dtypes"
   ]
  },
  {
   "cell_type": "code",
   "execution_count": 7,
   "metadata": {
    "execution": {
     "iopub.execute_input": "2025-03-25T23:33:28.993994Z",
     "iopub.status.busy": "2025-03-25T23:33:28.993908Z",
     "iopub.status.idle": "2025-03-25T23:33:29.241425Z",
     "shell.execute_reply": "2025-03-25T23:33:29.241049Z",
     "shell.execute_reply.started": "2025-03-25T23:33:28.993986Z"
    }
   },
   "outputs": [
    {
     "data": {
      "text/html": [
       "<div>\n",
       "<style scoped>\n",
       "    .dataframe tbody tr th:only-of-type {\n",
       "        vertical-align: middle;\n",
       "    }\n",
       "\n",
       "    .dataframe tbody tr th {\n",
       "        vertical-align: top;\n",
       "    }\n",
       "\n",
       "    .dataframe thead th {\n",
       "        text-align: right;\n",
       "    }\n",
       "</style>\n",
       "<table border=\"1\" class=\"dataframe\">\n",
       "  <thead>\n",
       "    <tr style=\"text-align: right;\">\n",
       "      <th></th>\n",
       "      <th>names</th>\n",
       "      <th>date_x</th>\n",
       "      <th>score</th>\n",
       "      <th>genre</th>\n",
       "      <th>overview</th>\n",
       "      <th>crew</th>\n",
       "      <th>orig_title</th>\n",
       "      <th>status</th>\n",
       "      <th>orig_lang</th>\n",
       "      <th>budget_x</th>\n",
       "      <th>revenue</th>\n",
       "      <th>country</th>\n",
       "    </tr>\n",
       "  </thead>\n",
       "  <tbody>\n",
       "    <tr>\n",
       "      <th>0</th>\n",
       "      <td>Creed III</td>\n",
       "      <td>2023-03-02 00:00:00</td>\n",
       "      <td>73.0</td>\n",
       "      <td>Drama, Action</td>\n",
       "      <td>After dominating the boxing world, Adonis Cree...</td>\n",
       "      <td>Michael B. Jordan, Adonis Creed, Tessa Thompso...</td>\n",
       "      <td>Creed III</td>\n",
       "      <td>Released</td>\n",
       "      <td>English</td>\n",
       "      <td>75000000.0</td>\n",
       "      <td>271616668.0</td>\n",
       "      <td>AU</td>\n",
       "    </tr>\n",
       "    <tr>\n",
       "      <th>1</th>\n",
       "      <td>Avatar: The Way of Water</td>\n",
       "      <td>2022-12-15 00:00:00</td>\n",
       "      <td>78.0</td>\n",
       "      <td>Science Fiction, Adventure, Action</td>\n",
       "      <td>Set more than a decade after the events of the...</td>\n",
       "      <td>Sam Worthington, Jake Sully, Zoe Saldaña, Neyt...</td>\n",
       "      <td>Avatar: The Way of Water</td>\n",
       "      <td>Released</td>\n",
       "      <td>English</td>\n",
       "      <td>460000000.0</td>\n",
       "      <td>2316794914.0</td>\n",
       "      <td>AU</td>\n",
       "    </tr>\n",
       "    <tr>\n",
       "      <th>2</th>\n",
       "      <td>The Super Mario Bros. Movie</td>\n",
       "      <td>2023-04-05 00:00:00</td>\n",
       "      <td>76.0</td>\n",
       "      <td>Animation, Adventure, Family, Fantasy, Comedy</td>\n",
       "      <td>While working underground to fix a water main,...</td>\n",
       "      <td>Chris Pratt, Mario (voice), Anya Taylor-Joy, P...</td>\n",
       "      <td>The Super Mario Bros. Movie</td>\n",
       "      <td>Released</td>\n",
       "      <td>English</td>\n",
       "      <td>100000000.0</td>\n",
       "      <td>724459031.0</td>\n",
       "      <td>AU</td>\n",
       "    </tr>\n",
       "    <tr>\n",
       "      <th>3</th>\n",
       "      <td>John Wick: Chapter 4</td>\n",
       "      <td>2023-03-23 00:00:00</td>\n",
       "      <td>80.0</td>\n",
       "      <td>Action, Thriller, Crime</td>\n",
       "      <td>With the price on his head ever increasing, Jo...</td>\n",
       "      <td>Keanu Reeves, John Wick, Donnie Yen, Caine, Bi...</td>\n",
       "      <td>John Wick: Chapter 4</td>\n",
       "      <td>Released</td>\n",
       "      <td>English</td>\n",
       "      <td>100000000.0</td>\n",
       "      <td>351349364.0</td>\n",
       "      <td>AU</td>\n",
       "    </tr>\n",
       "    <tr>\n",
       "      <th>4</th>\n",
       "      <td>Puss in Boots: The Last Wish</td>\n",
       "      <td>2022-12-26 00:00:00</td>\n",
       "      <td>83.0</td>\n",
       "      <td>Animation, Family, Fantasy, Adventure, Comedy</td>\n",
       "      <td>Puss in Boots discovers that his passion for a...</td>\n",
       "      <td>Antonio Banderas, Puss in Boots (voice), Salma...</td>\n",
       "      <td>Puss in Boots: The Last Wish</td>\n",
       "      <td>Released</td>\n",
       "      <td>English</td>\n",
       "      <td>90000000.0</td>\n",
       "      <td>483480577.0</td>\n",
       "      <td>AU</td>\n",
       "    </tr>\n",
       "  </tbody>\n",
       "</table>\n",
       "</div>"
      ],
      "text/plain": [
       "                          names               date_x score  \\\n",
       "0                     Creed III  2023-03-02 00:00:00  73.0   \n",
       "1      Avatar: The Way of Water  2022-12-15 00:00:00  78.0   \n",
       "2   The Super Mario Bros. Movie  2023-04-05 00:00:00  76.0   \n",
       "3          John Wick: Chapter 4  2023-03-23 00:00:00  80.0   \n",
       "4  Puss in Boots: The Last Wish  2022-12-26 00:00:00  83.0   \n",
       "\n",
       "                                           genre  \\\n",
       "0                                  Drama, Action   \n",
       "1             Science Fiction, Adventure, Action   \n",
       "2  Animation, Adventure, Family, Fantasy, Comedy   \n",
       "3                        Action, Thriller, Crime   \n",
       "4  Animation, Family, Fantasy, Adventure, Comedy   \n",
       "\n",
       "                                            overview  \\\n",
       "0  After dominating the boxing world, Adonis Cree...   \n",
       "1  Set more than a decade after the events of the...   \n",
       "2  While working underground to fix a water main,...   \n",
       "3  With the price on his head ever increasing, Jo...   \n",
       "4  Puss in Boots discovers that his passion for a...   \n",
       "\n",
       "                                                crew  \\\n",
       "0  Michael B. Jordan, Adonis Creed, Tessa Thompso...   \n",
       "1  Sam Worthington, Jake Sully, Zoe Saldaña, Neyt...   \n",
       "2  Chris Pratt, Mario (voice), Anya Taylor-Joy, P...   \n",
       "3  Keanu Reeves, John Wick, Donnie Yen, Caine, Bi...   \n",
       "4  Antonio Banderas, Puss in Boots (voice), Salma...   \n",
       "\n",
       "                     orig_title     status orig_lang     budget_x  \\\n",
       "0                     Creed III   Released   English   75000000.0   \n",
       "1      Avatar: The Way of Water   Released   English  460000000.0   \n",
       "2   The Super Mario Bros. Movie   Released   English  100000000.0   \n",
       "3          John Wick: Chapter 4   Released   English  100000000.0   \n",
       "4  Puss in Boots: The Last Wish   Released   English   90000000.0   \n",
       "\n",
       "        revenue country  \n",
       "0   271616668.0      AU  \n",
       "1  2316794914.0      AU  \n",
       "2   724459031.0      AU  \n",
       "3   351349364.0      AU  \n",
       "4   483480577.0      AU  "
      ]
     },
     "execution_count": 7,
     "metadata": {},
     "output_type": "execute_result"
    }
   ],
   "source": [
    "# df_filtered = df[df['date_x'].dt.year > 2020]\n",
    "df_recente = pd.DataFrame()\n",
    "\n",
    "# Pega linhas com ano DEPOIS de 2020 e nota MAIOR ou IGUAl a 70.0\n",
    "for idx, row in df.iterrows():\n",
    "    ano = row['date_x'].year\n",
    "    score = row['score']\n",
    "    # print(score > 70)\n",
    "    if ano >= 2020 and score > 70.0:\n",
    "        # print('   Entrou mesmo assim')\n",
    "        df_recente = pd.concat([df_recente, row.to_frame().T], ignore_index=True)\n",
    "\n",
    "# Apaga as linhas com valores NaN\n",
    "df_recente.dropna(subset='names')\n",
    "df_recente.head()"
   ]
  },
  {
   "cell_type": "code",
   "execution_count": 8,
   "metadata": {
    "execution": {
     "iopub.execute_input": "2025-03-25T23:33:29.242108Z",
     "iopub.status.busy": "2025-03-25T23:33:29.241862Z",
     "iopub.status.idle": "2025-03-25T23:33:29.250310Z",
     "shell.execute_reply": "2025-03-25T23:33:29.250013Z",
     "shell.execute_reply.started": "2025-03-25T23:33:29.242097Z"
    }
   },
   "outputs": [
    {
     "data": {
      "text/html": [
       "<div>\n",
       "<style scoped>\n",
       "    .dataframe tbody tr th:only-of-type {\n",
       "        vertical-align: middle;\n",
       "    }\n",
       "\n",
       "    .dataframe tbody tr th {\n",
       "        vertical-align: top;\n",
       "    }\n",
       "\n",
       "    .dataframe thead th {\n",
       "        text-align: right;\n",
       "    }\n",
       "</style>\n",
       "<table border=\"1\" class=\"dataframe\">\n",
       "  <thead>\n",
       "    <tr style=\"text-align: right;\">\n",
       "      <th></th>\n",
       "      <th>names</th>\n",
       "      <th>date_x</th>\n",
       "      <th>score</th>\n",
       "      <th>genre</th>\n",
       "      <th>overview</th>\n",
       "      <th>crew</th>\n",
       "      <th>orig_title</th>\n",
       "      <th>status</th>\n",
       "      <th>orig_lang</th>\n",
       "      <th>budget_x</th>\n",
       "      <th>revenue</th>\n",
       "      <th>country</th>\n",
       "    </tr>\n",
       "  </thead>\n",
       "  <tbody>\n",
       "    <tr>\n",
       "      <th>0</th>\n",
       "      <td>Creed III</td>\n",
       "      <td>2023-03-02 00:00:00</td>\n",
       "      <td>73.0</td>\n",
       "      <td>Drama, Action</td>\n",
       "      <td>After dominating the boxing world, Adonis Cree...</td>\n",
       "      <td>Michael B. Jordan, Adonis Creed, Tessa Thompso...</td>\n",
       "      <td>Creed III</td>\n",
       "      <td>Released</td>\n",
       "      <td>English</td>\n",
       "      <td>75000000.0</td>\n",
       "      <td>271616668.0</td>\n",
       "      <td>AU</td>\n",
       "    </tr>\n",
       "    <tr>\n",
       "      <th>1</th>\n",
       "      <td>Avatar: The Way of Water</td>\n",
       "      <td>2022-12-15 00:00:00</td>\n",
       "      <td>78.0</td>\n",
       "      <td>Science Fiction, Adventure, Action</td>\n",
       "      <td>Set more than a decade after the events of the...</td>\n",
       "      <td>Sam Worthington, Jake Sully, Zoe Saldaña, Neyt...</td>\n",
       "      <td>Avatar: The Way of Water</td>\n",
       "      <td>Released</td>\n",
       "      <td>English</td>\n",
       "      <td>460000000.0</td>\n",
       "      <td>2316794914.0</td>\n",
       "      <td>AU</td>\n",
       "    </tr>\n",
       "    <tr>\n",
       "      <th>2</th>\n",
       "      <td>The Super Mario Bros. Movie</td>\n",
       "      <td>2023-04-05 00:00:00</td>\n",
       "      <td>76.0</td>\n",
       "      <td>Animation, Adventure, Family, Fantasy, Comedy</td>\n",
       "      <td>While working underground to fix a water main,...</td>\n",
       "      <td>Chris Pratt, Mario (voice), Anya Taylor-Joy, P...</td>\n",
       "      <td>The Super Mario Bros. Movie</td>\n",
       "      <td>Released</td>\n",
       "      <td>English</td>\n",
       "      <td>100000000.0</td>\n",
       "      <td>724459031.0</td>\n",
       "      <td>AU</td>\n",
       "    </tr>\n",
       "    <tr>\n",
       "      <th>3</th>\n",
       "      <td>John Wick: Chapter 4</td>\n",
       "      <td>2023-03-23 00:00:00</td>\n",
       "      <td>80.0</td>\n",
       "      <td>Action, Thriller, Crime</td>\n",
       "      <td>With the price on his head ever increasing, Jo...</td>\n",
       "      <td>Keanu Reeves, John Wick, Donnie Yen, Caine, Bi...</td>\n",
       "      <td>John Wick: Chapter 4</td>\n",
       "      <td>Released</td>\n",
       "      <td>English</td>\n",
       "      <td>100000000.0</td>\n",
       "      <td>351349364.0</td>\n",
       "      <td>AU</td>\n",
       "    </tr>\n",
       "    <tr>\n",
       "      <th>4</th>\n",
       "      <td>Puss in Boots: The Last Wish</td>\n",
       "      <td>2022-12-26 00:00:00</td>\n",
       "      <td>83.0</td>\n",
       "      <td>Animation, Family, Fantasy, Adventure, Comedy</td>\n",
       "      <td>Puss in Boots discovers that his passion for a...</td>\n",
       "      <td>Antonio Banderas, Puss in Boots (voice), Salma...</td>\n",
       "      <td>Puss in Boots: The Last Wish</td>\n",
       "      <td>Released</td>\n",
       "      <td>English</td>\n",
       "      <td>90000000.0</td>\n",
       "      <td>483480577.0</td>\n",
       "      <td>AU</td>\n",
       "    </tr>\n",
       "    <tr>\n",
       "      <th>...</th>\n",
       "      <td>...</td>\n",
       "      <td>...</td>\n",
       "      <td>...</td>\n",
       "      <td>...</td>\n",
       "      <td>...</td>\n",
       "      <td>...</td>\n",
       "      <td>...</td>\n",
       "      <td>...</td>\n",
       "      <td>...</td>\n",
       "      <td>...</td>\n",
       "      <td>...</td>\n",
       "      <td>...</td>\n",
       "    </tr>\n",
       "    <tr>\n",
       "      <th>688</th>\n",
       "      <td>Flee</td>\n",
       "      <td>2022-02-17 00:00:00</td>\n",
       "      <td>78.0</td>\n",
       "      <td>Documentary, Animation</td>\n",
       "      <td>Recounted mostly through animation to tell a g...</td>\n",
       "      <td>Amin Nawabi, Self (voice), Daniel Karimyar, Am...</td>\n",
       "      <td>Flugt</td>\n",
       "      <td>Released</td>\n",
       "      <td>Danish</td>\n",
       "      <td>3400000.0</td>\n",
       "      <td>440544.0</td>\n",
       "      <td>AU</td>\n",
       "    </tr>\n",
       "    <tr>\n",
       "      <th>689</th>\n",
       "      <td>The Secret to Be Told: Relationship With My Aunt</td>\n",
       "      <td>2020-07-06 00:00:00</td>\n",
       "      <td>73.0</td>\n",
       "      <td>Drama, Romance</td>\n",
       "      <td>Minwoo falls in love with an aunt younger than...</td>\n",
       "      <td>Yoo Jung, , Ahn So-hee, , James, , Kang Min-woo,</td>\n",
       "      <td>말할 수 없는 비밀 : 이모와의 관계</td>\n",
       "      <td>Released</td>\n",
       "      <td>Korean</td>\n",
       "      <td>58000000.0</td>\n",
       "      <td>626713614.8</td>\n",
       "      <td>KR</td>\n",
       "    </tr>\n",
       "    <tr>\n",
       "      <th>690</th>\n",
       "      <td>Dragons: Rescue Riders: Secrets of the Songwing</td>\n",
       "      <td>2020-07-24 00:00:00</td>\n",
       "      <td>78.0</td>\n",
       "      <td>Animation, Family, TV Movie</td>\n",
       "      <td>When a musical dragon with a beautiful voice h...</td>\n",
       "      <td>Noah Kaye Bentley, Burple (voice), Brennley Br...</td>\n",
       "      <td>Dragons: Rescue Riders: Secrets of the Songwing</td>\n",
       "      <td>Released</td>\n",
       "      <td>English</td>\n",
       "      <td>62000000.0</td>\n",
       "      <td>183866850.0</td>\n",
       "      <td>US</td>\n",
       "    </tr>\n",
       "    <tr>\n",
       "      <th>691</th>\n",
       "      <td>K.G.F: Chapter 2</td>\n",
       "      <td>2022-04-14 00:00:00</td>\n",
       "      <td>76.0</td>\n",
       "      <td>Action, Crime, Drama</td>\n",
       "      <td>The blood-soaked land of Kolar Gold Fields (KG...</td>\n",
       "      <td>Yash, Raja Krishnappa Bairya 'Rocky', Sanjay D...</td>\n",
       "      <td>ಕೆ.ಜಿ.ಎಫ್: Chapter 2</td>\n",
       "      <td>Released</td>\n",
       "      <td>Kannada</td>\n",
       "      <td>13000000.0</td>\n",
       "      <td>90410749.0</td>\n",
       "      <td>IN</td>\n",
       "    </tr>\n",
       "    <tr>\n",
       "      <th>692</th>\n",
       "      <td>Marshall</td>\n",
       "      <td>2020-06-07 00:00:00</td>\n",
       "      <td>73.0</td>\n",
       "      <td>Drama</td>\n",
       "      <td>Thurgood Marshall, the first African-American ...</td>\n",
       "      <td>Chadwick Boseman, Thurgood Marshall, Josh Gad,...</td>\n",
       "      <td>Marshall</td>\n",
       "      <td>Released</td>\n",
       "      <td>English</td>\n",
       "      <td>12000000.0</td>\n",
       "      <td>10116816.0</td>\n",
       "      <td>AU</td>\n",
       "    </tr>\n",
       "  </tbody>\n",
       "</table>\n",
       "<p>688 rows × 12 columns</p>\n",
       "</div>"
      ],
      "text/plain": [
       "                                                names               date_x  \\\n",
       "0                                           Creed III  2023-03-02 00:00:00   \n",
       "1                            Avatar: The Way of Water  2022-12-15 00:00:00   \n",
       "2                         The Super Mario Bros. Movie  2023-04-05 00:00:00   \n",
       "3                                John Wick: Chapter 4  2023-03-23 00:00:00   \n",
       "4                        Puss in Boots: The Last Wish  2022-12-26 00:00:00   \n",
       "..                                                ...                  ...   \n",
       "688                                              Flee  2022-02-17 00:00:00   \n",
       "689  The Secret to Be Told: Relationship With My Aunt  2020-07-06 00:00:00   \n",
       "690   Dragons: Rescue Riders: Secrets of the Songwing  2020-07-24 00:00:00   \n",
       "691                                  K.G.F: Chapter 2  2022-04-14 00:00:00   \n",
       "692                                          Marshall  2020-06-07 00:00:00   \n",
       "\n",
       "    score                                          genre  \\\n",
       "0    73.0                                  Drama, Action   \n",
       "1    78.0             Science Fiction, Adventure, Action   \n",
       "2    76.0  Animation, Adventure, Family, Fantasy, Comedy   \n",
       "3    80.0                        Action, Thriller, Crime   \n",
       "4    83.0  Animation, Family, Fantasy, Adventure, Comedy   \n",
       "..    ...                                            ...   \n",
       "688  78.0                         Documentary, Animation   \n",
       "689  73.0                                 Drama, Romance   \n",
       "690  78.0                    Animation, Family, TV Movie   \n",
       "691  76.0                           Action, Crime, Drama   \n",
       "692  73.0                                          Drama   \n",
       "\n",
       "                                              overview  \\\n",
       "0    After dominating the boxing world, Adonis Cree...   \n",
       "1    Set more than a decade after the events of the...   \n",
       "2    While working underground to fix a water main,...   \n",
       "3    With the price on his head ever increasing, Jo...   \n",
       "4    Puss in Boots discovers that his passion for a...   \n",
       "..                                                 ...   \n",
       "688  Recounted mostly through animation to tell a g...   \n",
       "689  Minwoo falls in love with an aunt younger than...   \n",
       "690  When a musical dragon with a beautiful voice h...   \n",
       "691  The blood-soaked land of Kolar Gold Fields (KG...   \n",
       "692  Thurgood Marshall, the first African-American ...   \n",
       "\n",
       "                                                  crew  \\\n",
       "0    Michael B. Jordan, Adonis Creed, Tessa Thompso...   \n",
       "1    Sam Worthington, Jake Sully, Zoe Saldaña, Neyt...   \n",
       "2    Chris Pratt, Mario (voice), Anya Taylor-Joy, P...   \n",
       "3    Keanu Reeves, John Wick, Donnie Yen, Caine, Bi...   \n",
       "4    Antonio Banderas, Puss in Boots (voice), Salma...   \n",
       "..                                                 ...   \n",
       "688  Amin Nawabi, Self (voice), Daniel Karimyar, Am...   \n",
       "689  Yoo Jung, , Ahn So-hee, , James, , Kang Min-woo,    \n",
       "690  Noah Kaye Bentley, Burple (voice), Brennley Br...   \n",
       "691  Yash, Raja Krishnappa Bairya 'Rocky', Sanjay D...   \n",
       "692  Chadwick Boseman, Thurgood Marshall, Josh Gad,...   \n",
       "\n",
       "                                          orig_title     status orig_lang  \\\n",
       "0                                          Creed III   Released   English   \n",
       "1                           Avatar: The Way of Water   Released   English   \n",
       "2                        The Super Mario Bros. Movie   Released   English   \n",
       "3                               John Wick: Chapter 4   Released   English   \n",
       "4                       Puss in Boots: The Last Wish   Released   English   \n",
       "..                                               ...        ...       ...   \n",
       "688                                            Flugt   Released    Danish   \n",
       "689                             말할 수 없는 비밀 : 이모와의 관계   Released    Korean   \n",
       "690  Dragons: Rescue Riders: Secrets of the Songwing   Released   English   \n",
       "691                             ಕೆ.ಜಿ.ಎಫ್: Chapter 2   Released   Kannada   \n",
       "692                                         Marshall   Released   English   \n",
       "\n",
       "        budget_x       revenue country  \n",
       "0     75000000.0   271616668.0      AU  \n",
       "1    460000000.0  2316794914.0      AU  \n",
       "2    100000000.0   724459031.0      AU  \n",
       "3    100000000.0   351349364.0      AU  \n",
       "4     90000000.0   483480577.0      AU  \n",
       "..           ...           ...     ...  \n",
       "688    3400000.0      440544.0      AU  \n",
       "689   58000000.0   626713614.8      KR  \n",
       "690   62000000.0   183866850.0      US  \n",
       "691   13000000.0    90410749.0      IN  \n",
       "692   12000000.0    10116816.0      AU  \n",
       "\n",
       "[688 rows x 12 columns]"
      ]
     },
     "execution_count": 8,
     "metadata": {},
     "output_type": "execute_result"
    }
   ],
   "source": [
    "df_recente.head()\n",
    "\n",
    "# Deleta duplicados (GRRRRRR)\n",
    "df_recente.drop_duplicates(subset=['names'])"
   ]
  },
  {
   "cell_type": "code",
   "execution_count": 9,
   "metadata": {
    "execution": {
     "iopub.execute_input": "2025-03-25T23:33:29.250715Z",
     "iopub.status.busy": "2025-03-25T23:33:29.250615Z",
     "iopub.status.idle": "2025-03-25T23:33:29.255395Z",
     "shell.execute_reply": "2025-03-25T23:33:29.255022Z",
     "shell.execute_reply.started": "2025-03-25T23:33:29.250707Z"
    }
   },
   "outputs": [
    {
     "name": "stdout",
     "output_type": "stream",
     "text": [
      "Empty DataFrame\n",
      "Columns: [names, date_x, score, genre, overview, crew, orig_title, status, orig_lang, budget_x, revenue, country]\n",
      "Index: []\n"
     ]
    }
   ],
   "source": [
    "df_recente.drop_duplicates(subset='names', inplace=True)\n",
    "print(df_recente[df_recente.duplicated(subset='names', keep=False)])"
   ]
  },
  {
   "cell_type": "markdown",
   "metadata": {},
   "source": [
    "## Criando o Grafo"
   ]
  },
  {
   "cell_type": "code",
   "execution_count": 10,
   "metadata": {
    "execution": {
     "iopub.execute_input": "2025-03-25T23:33:29.256137Z",
     "iopub.status.busy": "2025-03-25T23:33:29.256047Z",
     "iopub.status.idle": "2025-03-25T23:33:29.259439Z",
     "shell.execute_reply": "2025-03-25T23:33:29.259158Z",
     "shell.execute_reply.started": "2025-03-25T23:33:29.256128Z"
    }
   },
   "outputs": [],
   "source": [
    "# Peguei essa logica da Aula 3, qualquer coisa da uma olhada\n",
    "g = gte.Graph(directed=False) # igual a gte.Graph(), pois directed é falso por padrão\n",
    "\n",
    "g.add_vp('color')"
   ]
  },
  {
   "cell_type": "code",
   "execution_count": 11,
   "metadata": {
    "execution": {
     "iopub.execute_input": "2025-03-25T23:33:29.259908Z",
     "iopub.status.busy": "2025-03-25T23:33:29.259792Z",
     "iopub.status.idle": "2025-03-25T23:33:29.268280Z",
     "shell.execute_reply": "2025-03-25T23:33:29.268016Z",
     "shell.execute_reply.started": "2025-03-25T23:33:29.259900Z"
    }
   },
   "outputs": [],
   "source": [
    "filmes = []\n",
    "for nome in df_recente['names']:\n",
    "    f = g.add_vertex_by_id(nome)\n",
    "    f['color'] = 0xfffff0\n",
    "    filmes.append(f)"
   ]
  },
  {
   "cell_type": "code",
   "execution_count": 12,
   "metadata": {
    "execution": {
     "iopub.execute_input": "2025-03-25T23:33:29.268615Z",
     "iopub.status.busy": "2025-03-25T23:33:29.268539Z",
     "iopub.status.idle": "2025-03-25T23:33:29.271407Z",
     "shell.execute_reply": "2025-03-25T23:33:29.271051Z",
     "shell.execute_reply.started": "2025-03-25T23:33:29.268607Z"
    }
   },
   "outputs": [],
   "source": [
    "# pos = gte.layout_bipartite(g, v_tipo)\n",
    "\n",
    "# graph_draw(g, pos=pos, vertex_text=v_tipo, output_size=(400, 400), output=\"rede_bipartida.png\")"
   ]
  },
  {
   "cell_type": "code",
   "execution_count": 13,
   "metadata": {
    "execution": {
     "iopub.execute_input": "2025-03-25T23:33:29.271900Z",
     "iopub.status.busy": "2025-03-25T23:33:29.271790Z",
     "iopub.status.idle": "2025-03-25T23:33:29.283320Z",
     "shell.execute_reply": "2025-03-25T23:33:29.282995Z",
     "shell.execute_reply.started": "2025-03-25T23:33:29.271892Z"
    }
   },
   "outputs": [],
   "source": [
    "# Criando o vertice de generos. Antes de fazer isso temos q separar os generos de cada filme, por exemplo: em um filme q tenha Drama, Action como generos, \n",
    "# temos q criar uma lista com os dois separados\n",
    "generos = set()\n",
    "genero = []\n",
    "for genre in df_recente['genre']:\n",
    "    w = g.vertex_by_id(genre)\n",
    "    # print([genre])\n",
    "    for ga in genre.split(','):\n",
    "        g_limpo = ga.strip()\n",
    "        genero.append(g_limpo)\n",
    "    generos.update(genero)\n",
    "\n",
    "lista_generos = sorted(list(generos))\n",
    "\n",
    "mat_zerada = np.zeros((len(lista_generos), len(lista_generos)))\n",
    "matriz_gen = pd.DataFrame(mat_zerada, columns=lista_generos, index=lista_generos)"
   ]
  },
  {
   "cell_type": "code",
   "execution_count": 14,
   "metadata": {
    "execution": {
     "iopub.execute_input": "2025-03-25T23:33:29.283708Z",
     "iopub.status.busy": "2025-03-25T23:33:29.283625Z",
     "iopub.status.idle": "2025-03-25T23:33:29.286143Z",
     "shell.execute_reply": "2025-03-25T23:33:29.285906Z",
     "shell.execute_reply.started": "2025-03-25T23:33:29.283699Z"
    }
   },
   "outputs": [],
   "source": [
    "from pprint import pprint"
   ]
  },
  {
   "cell_type": "code",
   "execution_count": 28,
   "metadata": {
    "execution": {
     "iopub.execute_input": "2025-03-25T23:33:59.358477Z",
     "iopub.status.busy": "2025-03-25T23:33:59.357264Z",
     "iopub.status.idle": "2025-03-25T23:33:59.374481Z",
     "shell.execute_reply": "2025-03-25T23:33:59.374021Z",
     "shell.execute_reply.started": "2025-03-25T23:33:59.358442Z"
    }
   },
   "outputs": [
    {
     "name": "stdout",
     "output_type": "stream",
     "text": [
      "Media [%] por categoria: \n",
      "{'Action': 5.555555555555555,\n",
      " 'Adventure': 5.554444444444443,\n",
      " 'Animation': 5.556111111111111,\n",
      " 'Comedy': 5.555555555555555,\n",
      " 'Crime': 5.556666666666668,\n",
      " 'Documentary': 5.554999999999999,\n",
      " 'Drama': 5.555555555555556,\n",
      " 'Family': 5.554999999999999,\n",
      " 'Fantasy': 5.555555555555555,\n",
      " 'History': 5.556111111111109,\n",
      " 'Horror': 5.555000000000001,\n",
      " 'Music': 5.555555555555555,\n",
      " 'Mystery': 5.555000000000001,\n",
      " 'Romance': 5.557222222222221,\n",
      " 'Science Fiction': 5.555,\n",
      " 'TV Movie': 5.555555555555555,\n",
      " 'Thriller': 5.553888888888889,\n",
      " 'War': 5.556111111111112,\n",
      " 'Western': 5.5572222222222205}\n"
     ]
    },
    {
     "data": {
      "text/plain": [
       "19"
      ]
     },
     "execution_count": 28,
     "metadata": {},
     "output_type": "execute_result"
    }
   ],
   "source": [
    "# Cria dicionario para salvar ocorrencias\n",
    "conexoes_gen = {}\n",
    "for g_prim in generos:\n",
    "    conexoes_gen[g_prim] = { 'Total' : 0}\n",
    "    for g_sec in generos:\n",
    "        if g_sec != g_prim:\n",
    "            conexoes_gen[g_prim][g_sec] = 0\n",
    "            # print('Criou')\n",
    "# pprint(conexoes_gen)\n",
    "# Ocorrencias de apararecer juntas\n",
    "for genres in df_recente['genre']:\n",
    "    for ga in genres.split(','):\n",
    "        ga = ga.strip()\n",
    "        # print(f'GA: {ga}')\n",
    "        for gb in genres.split(','):\n",
    "            gb = gb.strip()\n",
    "            if ga != gb:\n",
    "                # print(f'    GB: {gb}')\n",
    "                conexoes_gen[ga][gb] += 1\n",
    "                conexoes_gen[ga]['Total'] += 1\n",
    "\n",
    "# pprint(conexoes_gen)\n",
    "percents = {}\n",
    "percents_mean = {}\n",
    "# Porcentagem de aparição de cada filme em relação a outro\n",
    "for genA in conexoes_gen:\n",
    "    # r_genA = repr(genA)[1:-1]\n",
    "    # print(f'GA: {genA}')\n",
    "    # print(f'raw GA: {r_genA}')\n",
    "    percents[genA] = {}\n",
    "    mean_p = 0\n",
    "    for genB in conexoes_gen[genA]:\n",
    "        # r_genB = repr(genB)[1:-1]\n",
    "        # print(f'    GB: {genB}')\n",
    "        # print(f'    raw GB: {r_genB}')\n",
    "        if genB != 'Total':\n",
    "            percents[genA][genB] = round(conexoes_gen[genA][genB] * 100 / conexoes_gen[genA]['Total'], 2)\n",
    "            mean_p += round(conexoes_gen[genA][genB] * 100 / conexoes_gen[genA]['Total'], 2)\n",
    "    mean_p /= (len(conexoes_gen[genA]) - 1)\n",
    "    percents_mean[genA] = mean_p\n",
    "    \n",
    "# pprint(percents)\n",
    "\n",
    "# Media de 5.55%, aumentamos para 10% para realizar um corte maior para evitar produções incomuns\n",
    "print('Media [%] por categoria: ')\n",
    "pprint(percents_mean)\n",
    "\n",
    "len(percents)"
   ]
  },
  {
   "cell_type": "code",
   "execution_count": 29,
   "metadata": {
    "execution": {
     "iopub.execute_input": "2025-03-25T23:34:00.054028Z",
     "iopub.status.busy": "2025-03-25T23:34:00.053678Z",
     "iopub.status.idle": "2025-03-25T23:34:00.064599Z",
     "shell.execute_reply": "2025-03-25T23:34:00.063961Z",
     "shell.execute_reply.started": "2025-03-25T23:34:00.054012Z"
    }
   },
   "outputs": [],
   "source": [
    "import matplotlib.pyplot as plt"
   ]
  },
  {
   "cell_type": "code",
   "execution_count": 30,
   "metadata": {
    "execution": {
     "iopub.execute_input": "2025-03-25T23:34:00.319439Z",
     "iopub.status.busy": "2025-03-25T23:34:00.318902Z",
     "iopub.status.idle": "2025-03-25T23:34:00.324917Z",
     "shell.execute_reply": "2025-03-25T23:34:00.324037Z",
     "shell.execute_reply.started": "2025-03-25T23:34:00.319398Z"
    }
   },
   "outputs": [],
   "source": [
    "# plt.plot(conexoes_gen['Action'])"
   ]
  },
  {
   "cell_type": "code",
   "execution_count": 31,
   "metadata": {
    "execution": {
     "iopub.execute_input": "2025-03-25T23:34:00.513181Z",
     "iopub.status.busy": "2025-03-25T23:34:00.512807Z",
     "iopub.status.idle": "2025-03-25T23:34:00.796872Z",
     "shell.execute_reply": "2025-03-25T23:34:00.796133Z",
     "shell.execute_reply.started": "2025-03-25T23:34:00.513156Z"
    }
   },
   "outputs": [
    {
     "data": {
      "text/html": [
       "<div>\n",
       "<style scoped>\n",
       "    .dataframe tbody tr th:only-of-type {\n",
       "        vertical-align: middle;\n",
       "    }\n",
       "\n",
       "    .dataframe tbody tr th {\n",
       "        vertical-align: top;\n",
       "    }\n",
       "\n",
       "    .dataframe thead th {\n",
       "        text-align: right;\n",
       "    }\n",
       "</style>\n",
       "<table border=\"1\" class=\"dataframe\">\n",
       "  <thead>\n",
       "    <tr style=\"text-align: right;\">\n",
       "      <th></th>\n",
       "      <th>Action</th>\n",
       "      <th>Adventure</th>\n",
       "      <th>Animation</th>\n",
       "      <th>Comedy</th>\n",
       "      <th>Crime</th>\n",
       "      <th>Documentary</th>\n",
       "      <th>Drama</th>\n",
       "      <th>Family</th>\n",
       "      <th>Fantasy</th>\n",
       "      <th>History</th>\n",
       "      <th>Horror</th>\n",
       "      <th>Music</th>\n",
       "      <th>Mystery</th>\n",
       "      <th>Romance</th>\n",
       "      <th>Science Fiction</th>\n",
       "      <th>TV Movie</th>\n",
       "      <th>Thriller</th>\n",
       "      <th>War</th>\n",
       "      <th>Western</th>\n",
       "    </tr>\n",
       "  </thead>\n",
       "  <tbody>\n",
       "    <tr>\n",
       "      <th>Action</th>\n",
       "      <td>1.0</td>\n",
       "      <td>1.0</td>\n",
       "      <td>1.0</td>\n",
       "      <td>1.0</td>\n",
       "      <td>1.0</td>\n",
       "      <td>0.0</td>\n",
       "      <td>1.0</td>\n",
       "      <td>1.0</td>\n",
       "      <td>1.0</td>\n",
       "      <td>1.0</td>\n",
       "      <td>1.0</td>\n",
       "      <td>0.0</td>\n",
       "      <td>1.0</td>\n",
       "      <td>1.0</td>\n",
       "      <td>1.0</td>\n",
       "      <td>1.0</td>\n",
       "      <td>1.0</td>\n",
       "      <td>1.0</td>\n",
       "      <td>1.0</td>\n",
       "    </tr>\n",
       "    <tr>\n",
       "      <th>Adventure</th>\n",
       "      <td>1.0</td>\n",
       "      <td>1.0</td>\n",
       "      <td>1.0</td>\n",
       "      <td>1.0</td>\n",
       "      <td>1.0</td>\n",
       "      <td>0.0</td>\n",
       "      <td>1.0</td>\n",
       "      <td>1.0</td>\n",
       "      <td>1.0</td>\n",
       "      <td>1.0</td>\n",
       "      <td>1.0</td>\n",
       "      <td>1.0</td>\n",
       "      <td>1.0</td>\n",
       "      <td>1.0</td>\n",
       "      <td>1.0</td>\n",
       "      <td>1.0</td>\n",
       "      <td>1.0</td>\n",
       "      <td>0.0</td>\n",
       "      <td>1.0</td>\n",
       "    </tr>\n",
       "    <tr>\n",
       "      <th>Animation</th>\n",
       "      <td>1.0</td>\n",
       "      <td>1.0</td>\n",
       "      <td>1.0</td>\n",
       "      <td>1.0</td>\n",
       "      <td>1.0</td>\n",
       "      <td>1.0</td>\n",
       "      <td>1.0</td>\n",
       "      <td>1.0</td>\n",
       "      <td>1.0</td>\n",
       "      <td>1.0</td>\n",
       "      <td>1.0</td>\n",
       "      <td>1.0</td>\n",
       "      <td>1.0</td>\n",
       "      <td>1.0</td>\n",
       "      <td>1.0</td>\n",
       "      <td>1.0</td>\n",
       "      <td>1.0</td>\n",
       "      <td>1.0</td>\n",
       "      <td>1.0</td>\n",
       "    </tr>\n",
       "    <tr>\n",
       "      <th>Comedy</th>\n",
       "      <td>1.0</td>\n",
       "      <td>1.0</td>\n",
       "      <td>1.0</td>\n",
       "      <td>1.0</td>\n",
       "      <td>1.0</td>\n",
       "      <td>0.0</td>\n",
       "      <td>1.0</td>\n",
       "      <td>1.0</td>\n",
       "      <td>1.0</td>\n",
       "      <td>1.0</td>\n",
       "      <td>1.0</td>\n",
       "      <td>1.0</td>\n",
       "      <td>1.0</td>\n",
       "      <td>1.0</td>\n",
       "      <td>1.0</td>\n",
       "      <td>1.0</td>\n",
       "      <td>1.0</td>\n",
       "      <td>1.0</td>\n",
       "      <td>0.0</td>\n",
       "    </tr>\n",
       "    <tr>\n",
       "      <th>Crime</th>\n",
       "      <td>1.0</td>\n",
       "      <td>1.0</td>\n",
       "      <td>1.0</td>\n",
       "      <td>1.0</td>\n",
       "      <td>1.0</td>\n",
       "      <td>0.0</td>\n",
       "      <td>1.0</td>\n",
       "      <td>1.0</td>\n",
       "      <td>0.0</td>\n",
       "      <td>1.0</td>\n",
       "      <td>1.0</td>\n",
       "      <td>0.0</td>\n",
       "      <td>1.0</td>\n",
       "      <td>1.0</td>\n",
       "      <td>1.0</td>\n",
       "      <td>1.0</td>\n",
       "      <td>1.0</td>\n",
       "      <td>0.0</td>\n",
       "      <td>0.0</td>\n",
       "    </tr>\n",
       "    <tr>\n",
       "      <th>Documentary</th>\n",
       "      <td>0.0</td>\n",
       "      <td>0.0</td>\n",
       "      <td>1.0</td>\n",
       "      <td>0.0</td>\n",
       "      <td>0.0</td>\n",
       "      <td>1.0</td>\n",
       "      <td>1.0</td>\n",
       "      <td>0.0</td>\n",
       "      <td>0.0</td>\n",
       "      <td>1.0</td>\n",
       "      <td>0.0</td>\n",
       "      <td>1.0</td>\n",
       "      <td>0.0</td>\n",
       "      <td>0.0</td>\n",
       "      <td>0.0</td>\n",
       "      <td>1.0</td>\n",
       "      <td>1.0</td>\n",
       "      <td>0.0</td>\n",
       "      <td>0.0</td>\n",
       "    </tr>\n",
       "    <tr>\n",
       "      <th>Drama</th>\n",
       "      <td>1.0</td>\n",
       "      <td>1.0</td>\n",
       "      <td>1.0</td>\n",
       "      <td>1.0</td>\n",
       "      <td>1.0</td>\n",
       "      <td>1.0</td>\n",
       "      <td>1.0</td>\n",
       "      <td>1.0</td>\n",
       "      <td>1.0</td>\n",
       "      <td>1.0</td>\n",
       "      <td>1.0</td>\n",
       "      <td>1.0</td>\n",
       "      <td>1.0</td>\n",
       "      <td>1.0</td>\n",
       "      <td>1.0</td>\n",
       "      <td>1.0</td>\n",
       "      <td>1.0</td>\n",
       "      <td>1.0</td>\n",
       "      <td>1.0</td>\n",
       "    </tr>\n",
       "    <tr>\n",
       "      <th>Family</th>\n",
       "      <td>1.0</td>\n",
       "      <td>1.0</td>\n",
       "      <td>1.0</td>\n",
       "      <td>1.0</td>\n",
       "      <td>1.0</td>\n",
       "      <td>0.0</td>\n",
       "      <td>1.0</td>\n",
       "      <td>1.0</td>\n",
       "      <td>1.0</td>\n",
       "      <td>0.0</td>\n",
       "      <td>1.0</td>\n",
       "      <td>1.0</td>\n",
       "      <td>1.0</td>\n",
       "      <td>1.0</td>\n",
       "      <td>1.0</td>\n",
       "      <td>1.0</td>\n",
       "      <td>0.0</td>\n",
       "      <td>0.0</td>\n",
       "      <td>1.0</td>\n",
       "    </tr>\n",
       "    <tr>\n",
       "      <th>Fantasy</th>\n",
       "      <td>1.0</td>\n",
       "      <td>1.0</td>\n",
       "      <td>1.0</td>\n",
       "      <td>1.0</td>\n",
       "      <td>0.0</td>\n",
       "      <td>0.0</td>\n",
       "      <td>1.0</td>\n",
       "      <td>1.0</td>\n",
       "      <td>1.0</td>\n",
       "      <td>1.0</td>\n",
       "      <td>1.0</td>\n",
       "      <td>1.0</td>\n",
       "      <td>1.0</td>\n",
       "      <td>1.0</td>\n",
       "      <td>1.0</td>\n",
       "      <td>1.0</td>\n",
       "      <td>1.0</td>\n",
       "      <td>0.0</td>\n",
       "      <td>0.0</td>\n",
       "    </tr>\n",
       "    <tr>\n",
       "      <th>History</th>\n",
       "      <td>1.0</td>\n",
       "      <td>1.0</td>\n",
       "      <td>1.0</td>\n",
       "      <td>1.0</td>\n",
       "      <td>1.0</td>\n",
       "      <td>1.0</td>\n",
       "      <td>1.0</td>\n",
       "      <td>0.0</td>\n",
       "      <td>1.0</td>\n",
       "      <td>1.0</td>\n",
       "      <td>0.0</td>\n",
       "      <td>1.0</td>\n",
       "      <td>1.0</td>\n",
       "      <td>1.0</td>\n",
       "      <td>0.0</td>\n",
       "      <td>0.0</td>\n",
       "      <td>1.0</td>\n",
       "      <td>1.0</td>\n",
       "      <td>0.0</td>\n",
       "    </tr>\n",
       "    <tr>\n",
       "      <th>Horror</th>\n",
       "      <td>1.0</td>\n",
       "      <td>1.0</td>\n",
       "      <td>1.0</td>\n",
       "      <td>1.0</td>\n",
       "      <td>1.0</td>\n",
       "      <td>0.0</td>\n",
       "      <td>1.0</td>\n",
       "      <td>1.0</td>\n",
       "      <td>1.0</td>\n",
       "      <td>0.0</td>\n",
       "      <td>1.0</td>\n",
       "      <td>0.0</td>\n",
       "      <td>1.0</td>\n",
       "      <td>1.0</td>\n",
       "      <td>1.0</td>\n",
       "      <td>1.0</td>\n",
       "      <td>1.0</td>\n",
       "      <td>0.0</td>\n",
       "      <td>0.0</td>\n",
       "    </tr>\n",
       "    <tr>\n",
       "      <th>Music</th>\n",
       "      <td>0.0</td>\n",
       "      <td>1.0</td>\n",
       "      <td>1.0</td>\n",
       "      <td>1.0</td>\n",
       "      <td>0.0</td>\n",
       "      <td>1.0</td>\n",
       "      <td>1.0</td>\n",
       "      <td>1.0</td>\n",
       "      <td>1.0</td>\n",
       "      <td>1.0</td>\n",
       "      <td>0.0</td>\n",
       "      <td>1.0</td>\n",
       "      <td>0.0</td>\n",
       "      <td>1.0</td>\n",
       "      <td>1.0</td>\n",
       "      <td>1.0</td>\n",
       "      <td>0.0</td>\n",
       "      <td>0.0</td>\n",
       "      <td>0.0</td>\n",
       "    </tr>\n",
       "    <tr>\n",
       "      <th>Mystery</th>\n",
       "      <td>1.0</td>\n",
       "      <td>1.0</td>\n",
       "      <td>1.0</td>\n",
       "      <td>1.0</td>\n",
       "      <td>1.0</td>\n",
       "      <td>0.0</td>\n",
       "      <td>1.0</td>\n",
       "      <td>1.0</td>\n",
       "      <td>1.0</td>\n",
       "      <td>1.0</td>\n",
       "      <td>1.0</td>\n",
       "      <td>0.0</td>\n",
       "      <td>1.0</td>\n",
       "      <td>1.0</td>\n",
       "      <td>1.0</td>\n",
       "      <td>0.0</td>\n",
       "      <td>1.0</td>\n",
       "      <td>0.0</td>\n",
       "      <td>0.0</td>\n",
       "    </tr>\n",
       "    <tr>\n",
       "      <th>Romance</th>\n",
       "      <td>1.0</td>\n",
       "      <td>1.0</td>\n",
       "      <td>1.0</td>\n",
       "      <td>1.0</td>\n",
       "      <td>1.0</td>\n",
       "      <td>0.0</td>\n",
       "      <td>1.0</td>\n",
       "      <td>1.0</td>\n",
       "      <td>1.0</td>\n",
       "      <td>1.0</td>\n",
       "      <td>1.0</td>\n",
       "      <td>1.0</td>\n",
       "      <td>1.0</td>\n",
       "      <td>1.0</td>\n",
       "      <td>1.0</td>\n",
       "      <td>1.0</td>\n",
       "      <td>1.0</td>\n",
       "      <td>0.0</td>\n",
       "      <td>1.0</td>\n",
       "    </tr>\n",
       "    <tr>\n",
       "      <th>Science Fiction</th>\n",
       "      <td>1.0</td>\n",
       "      <td>1.0</td>\n",
       "      <td>1.0</td>\n",
       "      <td>1.0</td>\n",
       "      <td>1.0</td>\n",
       "      <td>0.0</td>\n",
       "      <td>1.0</td>\n",
       "      <td>1.0</td>\n",
       "      <td>1.0</td>\n",
       "      <td>0.0</td>\n",
       "      <td>1.0</td>\n",
       "      <td>1.0</td>\n",
       "      <td>1.0</td>\n",
       "      <td>1.0</td>\n",
       "      <td>1.0</td>\n",
       "      <td>1.0</td>\n",
       "      <td>1.0</td>\n",
       "      <td>1.0</td>\n",
       "      <td>0.0</td>\n",
       "    </tr>\n",
       "    <tr>\n",
       "      <th>TV Movie</th>\n",
       "      <td>1.0</td>\n",
       "      <td>1.0</td>\n",
       "      <td>1.0</td>\n",
       "      <td>1.0</td>\n",
       "      <td>1.0</td>\n",
       "      <td>1.0</td>\n",
       "      <td>1.0</td>\n",
       "      <td>1.0</td>\n",
       "      <td>1.0</td>\n",
       "      <td>0.0</td>\n",
       "      <td>1.0</td>\n",
       "      <td>1.0</td>\n",
       "      <td>0.0</td>\n",
       "      <td>1.0</td>\n",
       "      <td>1.0</td>\n",
       "      <td>1.0</td>\n",
       "      <td>1.0</td>\n",
       "      <td>0.0</td>\n",
       "      <td>0.0</td>\n",
       "    </tr>\n",
       "    <tr>\n",
       "      <th>Thriller</th>\n",
       "      <td>1.0</td>\n",
       "      <td>1.0</td>\n",
       "      <td>1.0</td>\n",
       "      <td>1.0</td>\n",
       "      <td>1.0</td>\n",
       "      <td>1.0</td>\n",
       "      <td>1.0</td>\n",
       "      <td>0.0</td>\n",
       "      <td>1.0</td>\n",
       "      <td>1.0</td>\n",
       "      <td>1.0</td>\n",
       "      <td>0.0</td>\n",
       "      <td>1.0</td>\n",
       "      <td>1.0</td>\n",
       "      <td>1.0</td>\n",
       "      <td>1.0</td>\n",
       "      <td>1.0</td>\n",
       "      <td>1.0</td>\n",
       "      <td>1.0</td>\n",
       "    </tr>\n",
       "    <tr>\n",
       "      <th>War</th>\n",
       "      <td>1.0</td>\n",
       "      <td>0.0</td>\n",
       "      <td>1.0</td>\n",
       "      <td>1.0</td>\n",
       "      <td>0.0</td>\n",
       "      <td>0.0</td>\n",
       "      <td>1.0</td>\n",
       "      <td>0.0</td>\n",
       "      <td>0.0</td>\n",
       "      <td>1.0</td>\n",
       "      <td>0.0</td>\n",
       "      <td>0.0</td>\n",
       "      <td>0.0</td>\n",
       "      <td>0.0</td>\n",
       "      <td>1.0</td>\n",
       "      <td>0.0</td>\n",
       "      <td>1.0</td>\n",
       "      <td>1.0</td>\n",
       "      <td>0.0</td>\n",
       "    </tr>\n",
       "    <tr>\n",
       "      <th>Western</th>\n",
       "      <td>1.0</td>\n",
       "      <td>1.0</td>\n",
       "      <td>1.0</td>\n",
       "      <td>0.0</td>\n",
       "      <td>0.0</td>\n",
       "      <td>0.0</td>\n",
       "      <td>1.0</td>\n",
       "      <td>1.0</td>\n",
       "      <td>0.0</td>\n",
       "      <td>0.0</td>\n",
       "      <td>0.0</td>\n",
       "      <td>0.0</td>\n",
       "      <td>0.0</td>\n",
       "      <td>1.0</td>\n",
       "      <td>0.0</td>\n",
       "      <td>0.0</td>\n",
       "      <td>1.0</td>\n",
       "      <td>0.0</td>\n",
       "      <td>1.0</td>\n",
       "    </tr>\n",
       "  </tbody>\n",
       "</table>\n",
       "</div>"
      ],
      "text/plain": [
       "                 Action  Adventure  Animation  Comedy  Crime  Documentary  \\\n",
       "Action              1.0        1.0        1.0     1.0    1.0          0.0   \n",
       "Adventure           1.0        1.0        1.0     1.0    1.0          0.0   \n",
       "Animation           1.0        1.0        1.0     1.0    1.0          1.0   \n",
       "Comedy              1.0        1.0        1.0     1.0    1.0          0.0   \n",
       "Crime               1.0        1.0        1.0     1.0    1.0          0.0   \n",
       "Documentary         0.0        0.0        1.0     0.0    0.0          1.0   \n",
       "Drama               1.0        1.0        1.0     1.0    1.0          1.0   \n",
       "Family              1.0        1.0        1.0     1.0    1.0          0.0   \n",
       "Fantasy             1.0        1.0        1.0     1.0    0.0          0.0   \n",
       "History             1.0        1.0        1.0     1.0    1.0          1.0   \n",
       "Horror              1.0        1.0        1.0     1.0    1.0          0.0   \n",
       "Music               0.0        1.0        1.0     1.0    0.0          1.0   \n",
       "Mystery             1.0        1.0        1.0     1.0    1.0          0.0   \n",
       "Romance             1.0        1.0        1.0     1.0    1.0          0.0   \n",
       "Science Fiction     1.0        1.0        1.0     1.0    1.0          0.0   \n",
       "TV Movie            1.0        1.0        1.0     1.0    1.0          1.0   \n",
       "Thriller            1.0        1.0        1.0     1.0    1.0          1.0   \n",
       "War                 1.0        0.0        1.0     1.0    0.0          0.0   \n",
       "Western             1.0        1.0        1.0     0.0    0.0          0.0   \n",
       "\n",
       "                 Drama  Family  Fantasy  History  Horror  Music  Mystery  \\\n",
       "Action             1.0     1.0      1.0      1.0     1.0    0.0      1.0   \n",
       "Adventure          1.0     1.0      1.0      1.0     1.0    1.0      1.0   \n",
       "Animation          1.0     1.0      1.0      1.0     1.0    1.0      1.0   \n",
       "Comedy             1.0     1.0      1.0      1.0     1.0    1.0      1.0   \n",
       "Crime              1.0     1.0      0.0      1.0     1.0    0.0      1.0   \n",
       "Documentary        1.0     0.0      0.0      1.0     0.0    1.0      0.0   \n",
       "Drama              1.0     1.0      1.0      1.0     1.0    1.0      1.0   \n",
       "Family             1.0     1.0      1.0      0.0     1.0    1.0      1.0   \n",
       "Fantasy            1.0     1.0      1.0      1.0     1.0    1.0      1.0   \n",
       "History            1.0     0.0      1.0      1.0     0.0    1.0      1.0   \n",
       "Horror             1.0     1.0      1.0      0.0     1.0    0.0      1.0   \n",
       "Music              1.0     1.0      1.0      1.0     0.0    1.0      0.0   \n",
       "Mystery            1.0     1.0      1.0      1.0     1.0    0.0      1.0   \n",
       "Romance            1.0     1.0      1.0      1.0     1.0    1.0      1.0   \n",
       "Science Fiction    1.0     1.0      1.0      0.0     1.0    1.0      1.0   \n",
       "TV Movie           1.0     1.0      1.0      0.0     1.0    1.0      0.0   \n",
       "Thriller           1.0     0.0      1.0      1.0     1.0    0.0      1.0   \n",
       "War                1.0     0.0      0.0      1.0     0.0    0.0      0.0   \n",
       "Western            1.0     1.0      0.0      0.0     0.0    0.0      0.0   \n",
       "\n",
       "                 Romance  Science Fiction  TV Movie  Thriller  War  Western  \n",
       "Action               1.0              1.0       1.0       1.0  1.0      1.0  \n",
       "Adventure            1.0              1.0       1.0       1.0  0.0      1.0  \n",
       "Animation            1.0              1.0       1.0       1.0  1.0      1.0  \n",
       "Comedy               1.0              1.0       1.0       1.0  1.0      0.0  \n",
       "Crime                1.0              1.0       1.0       1.0  0.0      0.0  \n",
       "Documentary          0.0              0.0       1.0       1.0  0.0      0.0  \n",
       "Drama                1.0              1.0       1.0       1.0  1.0      1.0  \n",
       "Family               1.0              1.0       1.0       0.0  0.0      1.0  \n",
       "Fantasy              1.0              1.0       1.0       1.0  0.0      0.0  \n",
       "History              1.0              0.0       0.0       1.0  1.0      0.0  \n",
       "Horror               1.0              1.0       1.0       1.0  0.0      0.0  \n",
       "Music                1.0              1.0       1.0       0.0  0.0      0.0  \n",
       "Mystery              1.0              1.0       0.0       1.0  0.0      0.0  \n",
       "Romance              1.0              1.0       1.0       1.0  0.0      1.0  \n",
       "Science Fiction      1.0              1.0       1.0       1.0  1.0      0.0  \n",
       "TV Movie             1.0              1.0       1.0       1.0  0.0      0.0  \n",
       "Thriller             1.0              1.0       1.0       1.0  1.0      1.0  \n",
       "War                  0.0              1.0       0.0       1.0  1.0      0.0  \n",
       "Western              1.0              0.0       0.0       1.0  0.0      1.0  "
      ]
     },
     "metadata": {},
     "output_type": "display_data"
    }
   ],
   "source": [
    "# Popular os dados de generos\n",
    "for gen in df_recente['genre']:\n",
    "    # print(gen)\n",
    "    for ga in gen.split(','):\n",
    "        # print(ga)\n",
    "        ga_limpo = ga.strip()\n",
    "        for gb in gen.split(','):\n",
    "            gb_limpo = gb.strip()\n",
    "            matriz_gen.loc[gb_limpo, ga_limpo] = 1\n",
    "\n",
    "display(matriz_gen)\n",
    "\n",
    "for gen_a in lista_generos:\n",
    "    for gen_b in lista_generos:\n",
    "        if gen_b != gen_a and matriz_gen.loc[gen_b, gen_a] == 1:\n",
    "            # Adiciona a arresta se foram localizados juntos\n",
    "            # print(f'Para {gen_a} e {gen_b}, achamos relacao!')\n",
    "            if g.vertex_by_id(gen_a) is None:\n",
    "                v = g.add_vertex_by_id(gen_a)\n",
    "                v['color'] = 0xff0000\n",
    "                # v_color[v] = \"red\"\n",
    "                \n",
    "            if g.vertex_by_id(gen_b) is None:\n",
    "                v = g.add_vertex_by_id(gen_b)\n",
    "                v['color'] = 0xff0000\n",
    "                # v_color[v] = \"red\"\n",
    "                \n",
    "            g.add_edge_by_ids(gen_a, gen_b)\n",
    "\n",
    "            # Para nao repetir criacao de aresta\n",
    "            matriz_gen.loc[gen_b, gen_a] = 0\n",
    "            matriz_gen.loc[gen_a, gen_b] = 0\n",
    "\n",
    "            df.sum(axis=1, numeric_only=True)\n",
    "\n"
   ]
  },
  {
   "cell_type": "code",
   "execution_count": 32,
   "metadata": {
    "execution": {
     "iopub.execute_input": "2025-03-25T23:34:00.798039Z",
     "iopub.status.busy": "2025-03-25T23:34:00.797868Z",
     "iopub.status.idle": "2025-03-25T23:34:00.823561Z",
     "shell.execute_reply": "2025-03-25T23:34:00.822879Z",
     "shell.execute_reply.started": "2025-03-25T23:34:00.798021Z"
    }
   },
   "outputs": [],
   "source": [
    "genero = []\n",
    "\n",
    "for idx, row in df_recente.iterrows():\n",
    "    filme = row['names']\n",
    "    for ga in row['genre'].split(','):\n",
    "        g_limpo = ga.strip()\n",
    "        genero.append(g_limpo)\n",
    "        g.add_edge_by_ids(filme, g_limpo)"
   ]
  },
  {
   "cell_type": "code",
   "execution_count": 33,
   "metadata": {
    "execution": {
     "iopub.execute_input": "2025-03-25T23:34:01.219375Z",
     "iopub.status.busy": "2025-03-25T23:34:01.218935Z",
     "iopub.status.idle": "2025-03-25T23:34:02.067454Z",
     "shell.execute_reply": "2025-03-25T23:34:02.067002Z",
     "shell.execute_reply.started": "2025-03-25T23:34:01.219346Z"
    }
   },
   "outputs": [],
   "source": [
    "layout = draw.sfdp_layout(g)\n",
    "\n",
    "gte.move(g, layout)"
   ]
  },
  {
   "cell_type": "code",
   "execution_count": 34,
   "metadata": {
    "execution": {
     "iopub.execute_input": "2025-03-25T23:34:02.068068Z",
     "iopub.status.busy": "2025-03-25T23:34:02.067978Z",
     "iopub.status.idle": "2025-03-25T23:34:02.071356Z",
     "shell.execute_reply": "2025-03-25T23:34:02.071008Z",
     "shell.execute_reply.started": "2025-03-25T23:34:02.068061Z"
    }
   },
   "outputs": [
    {
     "name": "stdout",
     "output_type": "stream",
     "text": [
      "Número de vértices: 707\n",
      "Número de arestas: 3760\n"
     ]
    }
   ],
   "source": [
    "print(\"Número de vértices:\", g.num_vertices())\n",
    "print(\"Número de arestas:\", g.num_edges())"
   ]
  },
  {
   "cell_type": "code",
   "execution_count": 35,
   "metadata": {
    "execution": {
     "iopub.execute_input": "2025-03-25T23:34:02.071897Z",
     "iopub.status.busy": "2025-03-25T23:34:02.071776Z",
     "iopub.status.idle": "2025-03-25T23:34:02.166177Z",
     "shell.execute_reply": "2025-03-25T23:34:02.165882Z",
     "shell.execute_reply.started": "2025-03-25T23:34:02.071888Z"
    },
    "scrolled": true
   },
   "outputs": [
    {
     "data": {
      "text/html": [
       "\n",
       "        <div id=\"VUeuXa5dDVGpjkcVzXTwJX\"></div>\n",
       "        <script>netpixi.render('VUeuXa5dDVGpjkcVzXTwJX', '/static/imdb.net.gz', 1.7777777777777777, true, false, false, true);</script>\n",
       "    "
      ],
      "text/plain": [
       "<IPython.core.display.HTML object>"
      ]
     },
     "metadata": {},
     "output_type": "display_data"
    }
   ],
   "source": [
    "gte.save(g, 'imdb.net.gz')\n",
    "\n",
    "r = netpixi.render('imdb.net.gz');\n",
    "# r.vertex_scale('genre', 1, 5)"
   ]
  },
  {
   "cell_type": "code",
   "execution_count": 36,
   "metadata": {
    "execution": {
     "iopub.execute_input": "2025-03-25T23:34:02.736935Z",
     "iopub.status.busy": "2025-03-25T23:34:02.736654Z",
     "iopub.status.idle": "2025-03-25T23:34:02.743436Z",
     "shell.execute_reply": "2025-03-25T23:34:02.742938Z",
     "shell.execute_reply.started": "2025-03-25T23:34:02.736919Z"
    }
   },
   "outputs": [
    {
     "data": {
      "text/html": [
       "\n",
       "        <div id=\"ctPBmhTeWg3za4KJUkYepS\"></div>\n",
       "        <script>netpixi.call('ctPBmhTeWg3za4KJUkYepS', 'VUeuXa5dDVGpjkcVzXTwJX', 'changeGraph', 'eyJ0eXBlIjogInNldHRpbmdzIiwgInByb3BzIjogeyJ2ZXJ0ZXgiOiB7InNpemUiOiAyMCwgImNvbG9yIjogMTY3MTE2ODAsICJid2lkdGgiOiAyLCAiYmNvbG9yIjogMH19fQo=');</script>\n",
       "    "
      ],
      "text/plain": [
       "<IPython.core.display.HTML object>"
      ]
     },
     "metadata": {},
     "output_type": "display_data"
    },
    {
     "data": {
      "text/html": [
       "\n",
       "        <div id=\"g26XmVLcwgRRAoUdp5X6Kz\"></div>\n",
       "        <script>netpixi.call('g26XmVLcwgRRAoUdp5X6Kz', 'VUeuXa5dDVGpjkcVzXTwJX', 'changeGraph', 'eyJ0eXBlIjogInNldHRpbmdzIiwgInByb3BzIjogeyJlZGdlIjogeyJ3aWR0aCI6IDIsICJjb2xvciI6IDc4Mjk1MDMsICJjdXJ2ZTEiOiAwLCAiY3VydmUyIjogMH19fQo=');</script>\n",
       "    "
      ],
      "text/plain": [
       "<IPython.core.display.HTML object>"
      ]
     },
     "metadata": {},
     "output_type": "display_data"
    }
   ],
   "source": [
    "r.vertex_default(\n",
    "    size=20,         # tamanho            (padrão: 16)\n",
    "    color=0xff0000,  # cor                (padrão: 0xffffff)\n",
    "    bwidth=2,        # espessura da borda (padrão: 2)\n",
    "    bcolor=0x000000, # cor da borda       (padrão: 0x3f3f3f)\n",
    ")\n",
    "\n",
    "r.edge_default(\n",
    "    width=2,        # espessura         (padrão: 2)\n",
    "    color=0x7777ff, # cor               (padrão: 0xffffff)\n",
    "    curve1=0,       # curvatura inicial (padrão: 0)\n",
    "    curve2=0,       # curvatura final   (padrão: 0)nalogamente, para atribuir características visuais às arestas, podemos chamanalogamente, para atribuir características visuais às arestas, podemos chama\n",
    ")\n"
   ]
  },
  {
   "cell_type": "markdown",
   "metadata": {},
   "source": [
    "## Degree (Híbrida)"
   ]
  },
  {
   "cell_type": "code",
   "execution_count": 37,
   "metadata": {
    "execution": {
     "iopub.execute_input": "2025-03-25T23:34:03.962228Z",
     "iopub.status.busy": "2025-03-25T23:34:03.961878Z",
     "iopub.status.idle": "2025-03-25T23:34:04.076688Z",
     "shell.execute_reply": "2025-03-25T23:34:04.076119Z",
     "shell.execute_reply.started": "2025-03-25T23:34:03.962201Z"
    }
   },
   "outputs": [],
   "source": [
    "g_deg_hibrid = g\n",
    "\n",
    "c = gte.total_degree(g_deg_hibrid)\n",
    "g_deg_hibrid.add_vp('degree', c)\n",
    "gte.save(g_deg_hibrid, 'degree_hib.net.gz')"
   ]
  },
  {
   "cell_type": "code",
   "execution_count": 38,
   "metadata": {
    "execution": {
     "iopub.execute_input": "2025-03-25T23:34:04.394849Z",
     "iopub.status.busy": "2025-03-25T23:34:04.394207Z",
     "iopub.status.idle": "2025-03-25T23:34:04.402779Z",
     "shell.execute_reply": "2025-03-25T23:34:04.402021Z",
     "shell.execute_reply.started": "2025-03-25T23:34:04.394815Z"
    }
   },
   "outputs": [
    {
     "data": {
      "text/html": [
       "\n",
       "        <div id=\"V5JxVJG5KgiL25o6V3YBuL\"></div>\n",
       "        <script>netpixi.render('V5JxVJG5KgiL25o6V3YBuL', '/static/degree_hib.net.gz', 1.7777777777777777, true, false, false, true);</script>\n",
       "    "
      ],
      "text/plain": [
       "<IPython.core.display.HTML object>"
      ]
     },
     "metadata": {},
     "output_type": "display_data"
    }
   ],
   "source": [
    "r_hib = netpixi.render('degree_hib.net.gz')"
   ]
  },
  {
   "cell_type": "code",
   "execution_count": 39,
   "metadata": {
    "execution": {
     "iopub.execute_input": "2025-03-25T23:34:10.430285Z",
     "iopub.status.busy": "2025-03-25T23:34:10.429282Z",
     "iopub.status.idle": "2025-03-25T23:34:10.441522Z",
     "shell.execute_reply": "2025-03-25T23:34:10.441038Z",
     "shell.execute_reply.started": "2025-03-25T23:34:10.430236Z"
    }
   },
   "outputs": [
    {
     "data": {
      "text/html": [
       "\n",
       "        <div id=\"DAX6cQzDtJyYWnXoCXTEDz\"></div>\n",
       "        <script>netpixi.call('DAX6cQzDtJyYWnXoCXTEDz', 'V5JxVJG5KgiL25o6V3YBuL', 'normalizeGraph', 'eyJ0eXBlIjogInZlcnRleCIsICJwcm9wcyI6IHsic3JjIjogImRlZ3JlZSIsICJtaW4iOiAxMCwgIm1heCI6IDM1fX0K');</script>\n",
       "    "
      ],
      "text/plain": [
       "<IPython.core.display.HTML object>"
      ]
     },
     "metadata": {},
     "output_type": "display_data"
    },
    {
     "data": {
      "text/html": [
       "\n",
       "        <div id=\"QGYbDFuJD5Z2RH4FrPpjbF\"></div>\n",
       "        <script>netpixi.call('QGYbDFuJD5Z2RH4FrPpjbF', 'V5JxVJG5KgiL25o6V3YBuL', 'changeGraph', 'eyJ0eXBlIjogInNldHRpbmdzIiwgInByb3BzIjogeyJ2ZXJ0ZXgiOiB7InNpemUiOiAyMCwgImNvbG9yIjogMTY3MTE2ODAsICJid2lkdGgiOiAyLCAiYmNvbG9yIjogMH19fQo=');</script>\n",
       "    "
      ],
      "text/plain": [
       "<IPython.core.display.HTML object>"
      ]
     },
     "metadata": {},
     "output_type": "display_data"
    },
    {
     "data": {
      "text/html": [
       "\n",
       "        <div id=\"EGcbXGgaYeNbWDEBLL5Kaj\"></div>\n",
       "        <script>netpixi.call('EGcbXGgaYeNbWDEBLL5Kaj', 'V5JxVJG5KgiL25o6V3YBuL', 'changeGraph', 'eyJ0eXBlIjogInNldHRpbmdzIiwgInByb3BzIjogeyJlZGdlIjogeyJ3aWR0aCI6IDIsICJjb2xvciI6IDc4Mjk1MDMsICJjdXJ2ZTEiOiAwLCAiY3VydmUyIjogMH19fQo=');</script>\n",
       "    "
      ],
      "text/plain": [
       "<IPython.core.display.HTML object>"
      ]
     },
     "metadata": {},
     "output_type": "display_data"
    }
   ],
   "source": [
    "r_hib.vertex_scale('degree', 10, 35)\n",
    "\n",
    "r_hib.vertex_default(\n",
    "    size=20,         # tamanho            (padrão: 16)\n",
    "    color=0xff0000,  # cor                (padrão: 0xffffff)\n",
    "    bwidth=2,        # espessura da borda (padrão: 2)\n",
    "    bcolor=0x000000, # cor da borda       (padrão: 0x3f3f3f)\n",
    ")\n",
    "\n",
    "r_hib.edge_default(\n",
    "    width=2,        # espessura         (padrão: 2)\n",
    "    color=0x7777ff, # cor               (padrão: 0xffffff)\n",
    "    curve1=0,       # curvatura inicial (padrão: 0)\n",
    "    curve2=0,       # curvatura final   (padrão: 0)nalogamente, para atribuir características visuais às arestas, podemos chamanalogamente, para atribuir características visuais às arestas, podemos chama\n",
    ")"
   ]
  },
  {
   "cell_type": "code",
   "execution_count": 40,
   "metadata": {
    "execution": {
     "iopub.execute_input": "2025-03-25T23:39:22.599505Z",
     "iopub.status.busy": "2025-03-25T23:39:22.598344Z",
     "iopub.status.idle": "2025-03-25T23:39:23.054189Z",
     "shell.execute_reply": "2025-03-25T23:39:23.053612Z",
     "shell.execute_reply.started": "2025-03-25T23:39:22.599425Z"
    }
   },
   "outputs": [],
   "source": [
    "g_ego = g\n",
    "c = gte.burt_constraint(g_ego)\n",
    "g_ego.add_vp('burt_constraint', c)\n",
    "gte.save(g_ego, 'structural_holes.net.gz')"
   ]
  },
  {
   "cell_type": "code",
   "execution_count": 41,
   "metadata": {
    "execution": {
     "iopub.execute_input": "2025-03-25T23:39:46.859271Z",
     "iopub.status.busy": "2025-03-25T23:39:46.859076Z",
     "iopub.status.idle": "2025-03-25T23:39:46.866887Z",
     "shell.execute_reply": "2025-03-25T23:39:46.866501Z",
     "shell.execute_reply.started": "2025-03-25T23:39:46.859257Z"
    }
   },
   "outputs": [
    {
     "data": {
      "text/html": [
       "\n",
       "        <div id=\"Wz2nSbdQoKVLyAHp8LoCAS\"></div>\n",
       "        <script>netpixi.render('Wz2nSbdQoKVLyAHp8LoCAS', '/static/structural_holes.net.gz', 1.7777777777777777, true, false, false, true);</script>\n",
       "    "
      ],
      "text/plain": [
       "<IPython.core.display.HTML object>"
      ]
     },
     "metadata": {},
     "output_type": "display_data"
    }
   ],
   "source": [
    "r_ego = netpixi.render('structural_holes.net.gz')"
   ]
  },
  {
   "cell_type": "code",
   "execution_count": 42,
   "metadata": {
    "execution": {
     "iopub.execute_input": "2025-03-25T23:40:22.928342Z",
     "iopub.status.busy": "2025-03-25T23:40:22.927425Z",
     "iopub.status.idle": "2025-03-25T23:40:22.936292Z",
     "shell.execute_reply": "2025-03-25T23:40:22.935705Z",
     "shell.execute_reply.started": "2025-03-25T23:40:22.928299Z"
    }
   },
   "outputs": [
    {
     "data": {
      "text/html": [
       "\n",
       "        <div id=\"a7LzMdfUWwBf6HfYuziPYa\"></div>\n",
       "        <script>netpixi.call('a7LzMdfUWwBf6HfYuziPYa', 'Wz2nSbdQoKVLyAHp8LoCAS', 'normalizeGraph', 'eyJ0eXBlIjogInZlcnRleCIsICJwcm9wcyI6IHsic3JjIjogImJ1cnRfY29uc3RyYWludCIsICJtaW4iOiAxMCwgIm1heCI6IDMwfX0K');</script>\n",
       "    "
      ],
      "text/plain": [
       "<IPython.core.display.HTML object>"
      ]
     },
     "metadata": {},
     "output_type": "display_data"
    }
   ],
   "source": [
    "r_ego.vertex_scale('burt_constraint', 10, 30)"
   ]
  },
  {
   "cell_type": "code",
   "execution_count": 43,
   "metadata": {
    "execution": {
     "iopub.execute_input": "2025-03-25T23:43:51.376656Z",
     "iopub.status.busy": "2025-03-25T23:43:51.374953Z",
     "iopub.status.idle": "2025-03-25T23:43:51.388791Z",
     "shell.execute_reply": "2025-03-25T23:43:51.388210Z",
     "shell.execute_reply.started": "2025-03-25T23:43:51.376608Z"
    }
   },
   "outputs": [
    {
     "data": {
      "text/html": [
       "\n",
       "        <div id=\"dk2hm3LoY2MaHWj4eywCW5\"></div>\n",
       "        <script>netpixi.call('dk2hm3LoY2MaHWj4eywCW5', 'Wz2nSbdQoKVLyAHp8LoCAS', 'changeGraph', 'eyJ0eXBlIjogInNldHRpbmdzIiwgInByb3BzIjogeyJ2ZXJ0ZXgiOiB7InNpemUiOiAyMCwgImNvbG9yIjogMTY3MTE2ODAsICJid2lkdGgiOiAyLCAiYmNvbG9yIjogMH19fQo=');</script>\n",
       "    "
      ],
      "text/plain": [
       "<IPython.core.display.HTML object>"
      ]
     },
     "metadata": {},
     "output_type": "display_data"
    },
    {
     "data": {
      "text/html": [
       "\n",
       "        <div id=\"736e2mvgu4BGcFDNkxiWpR\"></div>\n",
       "        <script>netpixi.call('736e2mvgu4BGcFDNkxiWpR', 'Wz2nSbdQoKVLyAHp8LoCAS', 'changeGraph', 'eyJ0eXBlIjogInNldHRpbmdzIiwgInByb3BzIjogeyJlZGdlIjogeyJ3aWR0aCI6IDIsICJjb2xvciI6IDc4Mjk1MDMsICJjdXJ2ZTEiOiAwLCAiY3VydmUyIjogMH19fQo=');</script>\n",
       "    "
      ],
      "text/plain": [
       "<IPython.core.display.HTML object>"
      ]
     },
     "metadata": {},
     "output_type": "display_data"
    }
   ],
   "source": [
    "r_ego.vertex_default(\n",
    "    size=20,         # tamanho            (padrão: 16)\n",
    "    color=0xff0000,  # cor                (padrão: 0xffffff)\n",
    "    bwidth=2,        # espessura da borda (padrão: 2)\n",
    "    bcolor=0x000000, # cor da borda       (padrão: 0x3f3f3f)\n",
    ")\n",
    "\n",
    "r_ego.edge_default(\n",
    "    width=2,        # espessura         (padrão: 2)\n",
    "    color=0x7777ff, # cor               (padrão: 0xffffff)\n",
    "    curve1=0,       # curvatura inicial (padrão: 0)\n",
    "    curve2=0,       # curvatura final   (padrão: 0)nalogamente, para atribuir características visuais às arestas, podemos chamanalogamente, para atribuir características visuais às arestas, podemos chama\n",
    ")\n"
   ]
  },
  {
   "cell_type": "code",
   "execution_count": null,
   "metadata": {},
   "outputs": [],
   "source": []
  }
 ],
 "metadata": {
  "kernelspec": {
   "display_name": "Python 3 (ipykernel)",
   "language": "python",
   "name": "python3"
  },
  "language_info": {
   "codemirror_mode": {
    "name": "ipython",
    "version": 3
   },
   "file_extension": ".py",
   "mimetype": "text/x-python",
   "name": "python",
   "nbconvert_exporter": "python",
   "pygments_lexer": "ipython3",
   "version": "3.13.1"
  }
 },
 "nbformat": 4,
 "nbformat_minor": 4
}
